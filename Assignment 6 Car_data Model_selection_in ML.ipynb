{
 "cells": [
  {
   "cell_type": "code",
   "execution_count": 98,
   "id": "732a6538",
   "metadata": {},
   "outputs": [],
   "source": [
    "import pandas as pd\n",
    "import matplotlib.pyplot as plt\n",
    "import seaborn as sns\n",
    "from sklearn.linear_model import LinearRegression\n",
    "from sklearn.linear_model import BayesianRidge\n",
    "from sklearn import metrics"
   ]
  },
  {
   "cell_type": "code",
   "execution_count": 111,
   "id": "c666da2b",
   "metadata": {},
   "outputs": [],
   "source": [
    "from sklearn.ensemble import RandomForestRegressor\n",
    "from sklearn.ensemble import GradientBoostingRegressor\n",
    "from sklearn.model_selection import train_test_split\n",
    "from sklearn.metrics import mean_squared_error\n"
   ]
  },
  {
   "cell_type": "code",
   "execution_count": 4,
   "id": "9925dffd",
   "metadata": {},
   "outputs": [],
   "source": [
    "car_data = pd.read_csv('car data.csv')"
   ]
  },
  {
   "cell_type": "code",
   "execution_count": 5,
   "id": "f7b6b2af",
   "metadata": {},
   "outputs": [
    {
     "data": {
      "text/html": [
       "<div>\n",
       "<style scoped>\n",
       "    .dataframe tbody tr th:only-of-type {\n",
       "        vertical-align: middle;\n",
       "    }\n",
       "\n",
       "    .dataframe tbody tr th {\n",
       "        vertical-align: top;\n",
       "    }\n",
       "\n",
       "    .dataframe thead th {\n",
       "        text-align: right;\n",
       "    }\n",
       "</style>\n",
       "<table border=\"1\" class=\"dataframe\">\n",
       "  <thead>\n",
       "    <tr style=\"text-align: right;\">\n",
       "      <th></th>\n",
       "      <th>Car_Name</th>\n",
       "      <th>Year</th>\n",
       "      <th>Selling_Price</th>\n",
       "      <th>Present_Price</th>\n",
       "      <th>Kms_Driven</th>\n",
       "      <th>Fuel_Type</th>\n",
       "      <th>Seller_Type</th>\n",
       "      <th>Transmission</th>\n",
       "      <th>Owner</th>\n",
       "    </tr>\n",
       "  </thead>\n",
       "  <tbody>\n",
       "    <tr>\n",
       "      <th>0</th>\n",
       "      <td>ritz</td>\n",
       "      <td>2014</td>\n",
       "      <td>3.35</td>\n",
       "      <td>5.59</td>\n",
       "      <td>27000</td>\n",
       "      <td>Petrol</td>\n",
       "      <td>Dealer</td>\n",
       "      <td>Manual</td>\n",
       "      <td>0</td>\n",
       "    </tr>\n",
       "    <tr>\n",
       "      <th>1</th>\n",
       "      <td>sx4</td>\n",
       "      <td>2013</td>\n",
       "      <td>4.75</td>\n",
       "      <td>9.54</td>\n",
       "      <td>43000</td>\n",
       "      <td>Diesel</td>\n",
       "      <td>Dealer</td>\n",
       "      <td>Manual</td>\n",
       "      <td>0</td>\n",
       "    </tr>\n",
       "    <tr>\n",
       "      <th>2</th>\n",
       "      <td>ciaz</td>\n",
       "      <td>2017</td>\n",
       "      <td>7.25</td>\n",
       "      <td>9.85</td>\n",
       "      <td>6900</td>\n",
       "      <td>Petrol</td>\n",
       "      <td>Dealer</td>\n",
       "      <td>Manual</td>\n",
       "      <td>0</td>\n",
       "    </tr>\n",
       "    <tr>\n",
       "      <th>3</th>\n",
       "      <td>wagon r</td>\n",
       "      <td>2011</td>\n",
       "      <td>2.85</td>\n",
       "      <td>4.15</td>\n",
       "      <td>5200</td>\n",
       "      <td>Petrol</td>\n",
       "      <td>Dealer</td>\n",
       "      <td>Manual</td>\n",
       "      <td>0</td>\n",
       "    </tr>\n",
       "    <tr>\n",
       "      <th>4</th>\n",
       "      <td>swift</td>\n",
       "      <td>2014</td>\n",
       "      <td>4.60</td>\n",
       "      <td>6.87</td>\n",
       "      <td>42450</td>\n",
       "      <td>Diesel</td>\n",
       "      <td>Dealer</td>\n",
       "      <td>Manual</td>\n",
       "      <td>0</td>\n",
       "    </tr>\n",
       "  </tbody>\n",
       "</table>\n",
       "</div>"
      ],
      "text/plain": [
       "  Car_Name  Year  Selling_Price  Present_Price  Kms_Driven Fuel_Type  \\\n",
       "0     ritz  2014           3.35           5.59       27000    Petrol   \n",
       "1      sx4  2013           4.75           9.54       43000    Diesel   \n",
       "2     ciaz  2017           7.25           9.85        6900    Petrol   \n",
       "3  wagon r  2011           2.85           4.15        5200    Petrol   \n",
       "4    swift  2014           4.60           6.87       42450    Diesel   \n",
       "\n",
       "  Seller_Type Transmission  Owner  \n",
       "0      Dealer       Manual      0  \n",
       "1      Dealer       Manual      0  \n",
       "2      Dealer       Manual      0  \n",
       "3      Dealer       Manual      0  \n",
       "4      Dealer       Manual      0  "
      ]
     },
     "execution_count": 5,
     "metadata": {},
     "output_type": "execute_result"
    }
   ],
   "source": [
    "car_data.head()"
   ]
  },
  {
   "cell_type": "code",
   "execution_count": 6,
   "id": "9db01270",
   "metadata": {},
   "outputs": [
    {
     "data": {
      "text/plain": [
       "(301, 9)"
      ]
     },
     "execution_count": 6,
     "metadata": {},
     "output_type": "execute_result"
    }
   ],
   "source": [
    "car_data.shape"
   ]
  },
  {
   "cell_type": "code",
   "execution_count": 7,
   "id": "a9de43dc",
   "metadata": {},
   "outputs": [
    {
     "data": {
      "text/plain": [
       "Car_Name          object\n",
       "Year               int64\n",
       "Selling_Price    float64\n",
       "Present_Price    float64\n",
       "Kms_Driven         int64\n",
       "Fuel_Type         object\n",
       "Seller_Type       object\n",
       "Transmission      object\n",
       "Owner              int64\n",
       "dtype: object"
      ]
     },
     "execution_count": 7,
     "metadata": {},
     "output_type": "execute_result"
    }
   ],
   "source": [
    "car_data.dtypes"
   ]
  },
  {
   "cell_type": "code",
   "execution_count": 8,
   "id": "7d16d77e",
   "metadata": {},
   "outputs": [
    {
     "data": {
      "text/html": [
       "<div>\n",
       "<style scoped>\n",
       "    .dataframe tbody tr th:only-of-type {\n",
       "        vertical-align: middle;\n",
       "    }\n",
       "\n",
       "    .dataframe tbody tr th {\n",
       "        vertical-align: top;\n",
       "    }\n",
       "\n",
       "    .dataframe thead th {\n",
       "        text-align: right;\n",
       "    }\n",
       "</style>\n",
       "<table border=\"1\" class=\"dataframe\">\n",
       "  <thead>\n",
       "    <tr style=\"text-align: right;\">\n",
       "      <th></th>\n",
       "      <th>Year</th>\n",
       "      <th>Selling_Price</th>\n",
       "      <th>Present_Price</th>\n",
       "      <th>Kms_Driven</th>\n",
       "      <th>Owner</th>\n",
       "    </tr>\n",
       "  </thead>\n",
       "  <tbody>\n",
       "    <tr>\n",
       "      <th>count</th>\n",
       "      <td>301.000000</td>\n",
       "      <td>301.000000</td>\n",
       "      <td>301.000000</td>\n",
       "      <td>301.000000</td>\n",
       "      <td>301.000000</td>\n",
       "    </tr>\n",
       "    <tr>\n",
       "      <th>mean</th>\n",
       "      <td>2013.627907</td>\n",
       "      <td>4.661296</td>\n",
       "      <td>7.628472</td>\n",
       "      <td>36947.205980</td>\n",
       "      <td>0.043189</td>\n",
       "    </tr>\n",
       "    <tr>\n",
       "      <th>std</th>\n",
       "      <td>2.891554</td>\n",
       "      <td>5.082812</td>\n",
       "      <td>8.644115</td>\n",
       "      <td>38886.883882</td>\n",
       "      <td>0.247915</td>\n",
       "    </tr>\n",
       "    <tr>\n",
       "      <th>min</th>\n",
       "      <td>2003.000000</td>\n",
       "      <td>0.100000</td>\n",
       "      <td>0.320000</td>\n",
       "      <td>500.000000</td>\n",
       "      <td>0.000000</td>\n",
       "    </tr>\n",
       "    <tr>\n",
       "      <th>25%</th>\n",
       "      <td>2012.000000</td>\n",
       "      <td>0.900000</td>\n",
       "      <td>1.200000</td>\n",
       "      <td>15000.000000</td>\n",
       "      <td>0.000000</td>\n",
       "    </tr>\n",
       "    <tr>\n",
       "      <th>50%</th>\n",
       "      <td>2014.000000</td>\n",
       "      <td>3.600000</td>\n",
       "      <td>6.400000</td>\n",
       "      <td>32000.000000</td>\n",
       "      <td>0.000000</td>\n",
       "    </tr>\n",
       "    <tr>\n",
       "      <th>75%</th>\n",
       "      <td>2016.000000</td>\n",
       "      <td>6.000000</td>\n",
       "      <td>9.900000</td>\n",
       "      <td>48767.000000</td>\n",
       "      <td>0.000000</td>\n",
       "    </tr>\n",
       "    <tr>\n",
       "      <th>max</th>\n",
       "      <td>2018.000000</td>\n",
       "      <td>35.000000</td>\n",
       "      <td>92.600000</td>\n",
       "      <td>500000.000000</td>\n",
       "      <td>3.000000</td>\n",
       "    </tr>\n",
       "  </tbody>\n",
       "</table>\n",
       "</div>"
      ],
      "text/plain": [
       "              Year  Selling_Price  Present_Price     Kms_Driven       Owner\n",
       "count   301.000000     301.000000     301.000000     301.000000  301.000000\n",
       "mean   2013.627907       4.661296       7.628472   36947.205980    0.043189\n",
       "std       2.891554       5.082812       8.644115   38886.883882    0.247915\n",
       "min    2003.000000       0.100000       0.320000     500.000000    0.000000\n",
       "25%    2012.000000       0.900000       1.200000   15000.000000    0.000000\n",
       "50%    2014.000000       3.600000       6.400000   32000.000000    0.000000\n",
       "75%    2016.000000       6.000000       9.900000   48767.000000    0.000000\n",
       "max    2018.000000      35.000000      92.600000  500000.000000    3.000000"
      ]
     },
     "execution_count": 8,
     "metadata": {},
     "output_type": "execute_result"
    }
   ],
   "source": [
    "car_data.describe()"
   ]
  },
  {
   "cell_type": "code",
   "execution_count": 9,
   "id": "8a494c89",
   "metadata": {},
   "outputs": [
    {
     "data": {
      "text/plain": [
       "<bound method DataFrame.info of     Car_Name  Year  Selling_Price  Present_Price  Kms_Driven Fuel_Type  \\\n",
       "0       ritz  2014           3.35           5.59       27000    Petrol   \n",
       "1        sx4  2013           4.75           9.54       43000    Diesel   \n",
       "2       ciaz  2017           7.25           9.85        6900    Petrol   \n",
       "3    wagon r  2011           2.85           4.15        5200    Petrol   \n",
       "4      swift  2014           4.60           6.87       42450    Diesel   \n",
       "..       ...   ...            ...            ...         ...       ...   \n",
       "296     city  2016           9.50          11.60       33988    Diesel   \n",
       "297     brio  2015           4.00           5.90       60000    Petrol   \n",
       "298     city  2009           3.35          11.00       87934    Petrol   \n",
       "299     city  2017          11.50          12.50        9000    Diesel   \n",
       "300     brio  2016           5.30           5.90        5464    Petrol   \n",
       "\n",
       "    Seller_Type Transmission  Owner  \n",
       "0        Dealer       Manual      0  \n",
       "1        Dealer       Manual      0  \n",
       "2        Dealer       Manual      0  \n",
       "3        Dealer       Manual      0  \n",
       "4        Dealer       Manual      0  \n",
       "..          ...          ...    ...  \n",
       "296      Dealer       Manual      0  \n",
       "297      Dealer       Manual      0  \n",
       "298      Dealer       Manual      0  \n",
       "299      Dealer       Manual      0  \n",
       "300      Dealer       Manual      0  \n",
       "\n",
       "[301 rows x 9 columns]>"
      ]
     },
     "execution_count": 9,
     "metadata": {},
     "output_type": "execute_result"
    }
   ],
   "source": [
    "car_data.info"
   ]
  },
  {
   "cell_type": "code",
   "execution_count": 10,
   "id": "420de121",
   "metadata": {},
   "outputs": [
    {
     "data": {
      "text/plain": [
       "Car_Name         0\n",
       "Year             0\n",
       "Selling_Price    0\n",
       "Present_Price    0\n",
       "Kms_Driven       0\n",
       "Fuel_Type        0\n",
       "Seller_Type      0\n",
       "Transmission     0\n",
       "Owner            0\n",
       "dtype: int64"
      ]
     },
     "execution_count": 10,
     "metadata": {},
     "output_type": "execute_result"
    }
   ],
   "source": [
    "car_data.isnull().sum()"
   ]
  },
  {
   "cell_type": "code",
   "execution_count": 11,
   "id": "8558042e",
   "metadata": {},
   "outputs": [
    {
     "data": {
      "text/plain": [
       "0    290\n",
       "1     10\n",
       "3      1\n",
       "Name: Owner, dtype: int64"
      ]
     },
     "execution_count": 11,
     "metadata": {},
     "output_type": "execute_result"
    }
   ],
   "source": [
    "car_data['Owner'].value_counts()"
   ]
  },
  {
   "cell_type": "code",
   "execution_count": 12,
   "id": "1d7a1771",
   "metadata": {},
   "outputs": [
    {
     "data": {
      "text/plain": [
       "Dealer        195\n",
       "Individual    106\n",
       "Name: Seller_Type, dtype: int64"
      ]
     },
     "execution_count": 12,
     "metadata": {},
     "output_type": "execute_result"
    }
   ],
   "source": [
    "car_data['Seller_Type'].value_counts()"
   ]
  },
  {
   "cell_type": "code",
   "execution_count": null,
   "id": "6290c6c8",
   "metadata": {},
   "outputs": [],
   "source": []
  },
  {
   "cell_type": "code",
   "execution_count": 13,
   "id": "372562a1",
   "metadata": {},
   "outputs": [
    {
     "data": {
      "text/plain": [
       "Petrol    239\n",
       "Diesel     60\n",
       "CNG         2\n",
       "Name: Fuel_Type, dtype: int64"
      ]
     },
     "execution_count": 13,
     "metadata": {},
     "output_type": "execute_result"
    }
   ],
   "source": [
    "car_data['Fuel_Type'].value_counts()"
   ]
  },
  {
   "cell_type": "code",
   "execution_count": 14,
   "id": "11e301ae",
   "metadata": {},
   "outputs": [],
   "source": [
    "# encoding \"Fuel_Type\" Column\n",
    "car_data.replace({'Fuel_Type':{'Petrol':0,'Diesel':1,'CNG':2}},inplace=True)\n",
    "\n",
    "# encoding \"Seller_Type\" Column\n",
    "car_data.replace({'Seller_Type':{'Dealer':0,'Individual':1}},inplace=True)\n",
    "\n",
    "# encoding \"Transmission\" Column\n",
    "car_data.replace({'Transmission':{'Manual':0,'Automatic':1}},inplace=True)"
   ]
  },
  {
   "cell_type": "code",
   "execution_count": 27,
   "id": "46bd0dcf",
   "metadata": {},
   "outputs": [],
   "source": [
    "X = car_data.drop(['Car_Name','Selling_Price'],axis=1)\n",
    "Y = car_data['Selling_Price']"
   ]
  },
  {
   "cell_type": "code",
   "execution_count": 28,
   "id": "7e6775ad",
   "metadata": {},
   "outputs": [
    {
     "name": "stdout",
     "output_type": "stream",
     "text": [
      "     Year  Present_Price  Kms_Driven  Fuel_Type  Seller_Type  Transmission  \\\n",
      "0    2014           5.59       27000          0            0             0   \n",
      "1    2013           9.54       43000          1            0             0   \n",
      "2    2017           9.85        6900          0            0             0   \n",
      "3    2011           4.15        5200          0            0             0   \n",
      "4    2014           6.87       42450          1            0             0   \n",
      "..    ...            ...         ...        ...          ...           ...   \n",
      "296  2016          11.60       33988          1            0             0   \n",
      "297  2015           5.90       60000          0            0             0   \n",
      "298  2009          11.00       87934          0            0             0   \n",
      "299  2017          12.50        9000          1            0             0   \n",
      "300  2016           5.90        5464          0            0             0   \n",
      "\n",
      "     Owner  \n",
      "0        0  \n",
      "1        0  \n",
      "2        0  \n",
      "3        0  \n",
      "4        0  \n",
      "..     ...  \n",
      "296      0  \n",
      "297      0  \n",
      "298      0  \n",
      "299      0  \n",
      "300      0  \n",
      "\n",
      "[301 rows x 7 columns]\n"
     ]
    }
   ],
   "source": [
    "print(X)"
   ]
  },
  {
   "cell_type": "code",
   "execution_count": 29,
   "id": "a962f8b4",
   "metadata": {},
   "outputs": [
    {
     "name": "stdout",
     "output_type": "stream",
     "text": [
      "0       3.35\n",
      "1       4.75\n",
      "2       7.25\n",
      "3       2.85\n",
      "4       4.60\n",
      "       ...  \n",
      "296     9.50\n",
      "297     4.00\n",
      "298     3.35\n",
      "299    11.50\n",
      "300     5.30\n",
      "Name: Selling_Price, Length: 301, dtype: float64\n"
     ]
    }
   ],
   "source": [
    "print(Y)"
   ]
  },
  {
   "cell_type": "code",
   "execution_count": 23,
   "id": "764250ac",
   "metadata": {},
   "outputs": [
    {
     "data": {
      "text/plain": [
       "Car_Name         0\n",
       "Year             0\n",
       "Selling_Price    0\n",
       "Present_Price    0\n",
       "Kms_Driven       0\n",
       "Fuel_Type        0\n",
       "Seller_Type      0\n",
       "Transmission     0\n",
       "Owner            0\n",
       "dtype: int64"
      ]
     },
     "execution_count": 23,
     "metadata": {},
     "output_type": "execute_result"
    }
   ],
   "source": [
    "car_data.isnull().sum()"
   ]
  },
  {
   "cell_type": "code",
   "execution_count": 36,
   "id": "b738383b",
   "metadata": {},
   "outputs": [],
   "source": [
    "X_train, X_test, Y_train, Y_test = train_test_split(X, Y, test_size = 0.2, random_state=5)"
   ]
  },
  {
   "cell_type": "raw",
   "id": "9f2ca2ef",
   "metadata": {},
   "source": [
    "1. LinearRegression Model"
   ]
  },
  {
   "cell_type": "code",
   "execution_count": 37,
   "id": "31151c2e",
   "metadata": {},
   "outputs": [],
   "source": [
    "lin_reg_model = LinearRegression()"
   ]
  },
  {
   "cell_type": "code",
   "execution_count": 38,
   "id": "b76f3017",
   "metadata": {},
   "outputs": [
    {
     "data": {
      "text/plain": [
       "LinearRegression()"
      ]
     },
     "execution_count": 38,
     "metadata": {},
     "output_type": "execute_result"
    }
   ],
   "source": [
    "lin_reg_model.fit(X_train,Y_train)"
   ]
  },
  {
   "cell_type": "code",
   "execution_count": 39,
   "id": "313fbb3d",
   "metadata": {},
   "outputs": [],
   "source": [
    "train_data_prediction = lin_reg_model.predict(X_train)"
   ]
  },
  {
   "cell_type": "code",
   "execution_count": 40,
   "id": "57c7b6f0",
   "metadata": {},
   "outputs": [
    {
     "name": "stdout",
     "output_type": "stream",
     "text": [
      "R squared Error :  0.8741731316387884\n"
     ]
    }
   ],
   "source": [
    "error_score = metrics.r2_score(Y_train, train_data_prediction)\n",
    "print(\"R squared Error : \", error_score)"
   ]
  },
  {
   "cell_type": "code",
   "execution_count": 53,
   "id": "80e52da5",
   "metadata": {},
   "outputs": [
    {
     "data": {
      "image/png": "[encoded data removed]",
      "text/plain": [
       "<Figure size 432x288 with 1 Axes>"
      ]
     },
     "metadata": {
      "needs_background": "light"
     },
     "output_type": "display_data"
    }
   ],
   "source": [
    "plt.scatter(Y_train, train_data_prediction)\n",
    "plt.xlabel(\"Actual Price\")\n",
    "plt.ylabel(\"Predicted Price\")\n",
    "plt.title(\" Actual Prices vs Predicted Prices\")\n",
    "plt.show()"
   ]
  },
  {
   "cell_type": "code",
   "execution_count": 51,
   "id": "371cdb9b",
   "metadata": {},
   "outputs": [
    {
     "data": {
      "image/png": "[encoded data removed]",
      "text/plain": [
       "<Figure size 432x288 with 1 Axes>"
      ]
     },
     "metadata": {
      "needs_background": "light"
     },
     "output_type": "display_data"
    }
   ],
   "source": [
    "plt.boxplot([Y_train, train_data_prediction])\n",
    "plt.xlabel(\"Actual Price\")\n",
    "plt.ylabel(\"Predicted Price\")\n",
    "plt.title(\"Actual Prices vs Predicted Prices\")\n",
    "plt.show()"
   ]
  },
  {
   "cell_type": "code",
   "execution_count": 54,
   "id": "9c72400c",
   "metadata": {},
   "outputs": [],
   "source": [
    "test_data_prediction = lin_reg_model.predict(X_test)"
   ]
  },
  {
   "cell_type": "code",
   "execution_count": 56,
   "id": "bcf99fea",
   "metadata": {},
   "outputs": [
    {
     "name": "stdout",
     "output_type": "stream",
     "text": [
      "R squared Error :  0.8650320546210937\n"
     ]
    }
   ],
   "source": [
    "error_score = metrics.r2_score(Y_test, test_data_prediction)\n",
    "print(\"R squared Error : \", error_score)"
   ]
  },
  {
   "cell_type": "code",
   "execution_count": 57,
   "id": "2c421442",
   "metadata": {},
   "outputs": [
    {
     "data": {
      "image/png": "[encoded data removed]",
      "text/plain": [
       "<Figure size 432x288 with 1 Axes>"
      ]
     },
     "metadata": {
      "needs_background": "light"
     },
     "output_type": "display_data"
    }
   ],
   "source": [
    "plt.scatter(Y_test, test_data_prediction)\n",
    "plt.xlabel(\"Actual Price\")\n",
    "plt.ylabel(\"Predicted Price\")\n",
    "plt.title(\" Actual Prices vs Predicted Prices\")\n",
    "plt.show()"
   ]
  },
  {
   "cell_type": "code",
   "execution_count": 59,
   "id": "f6a0fa15",
   "metadata": {},
   "outputs": [
    {
     "data": {
      "image/png": "[encoded data removed]",
      "text/plain": [
       "<Figure size 432x288 with 1 Axes>"
      ]
     },
     "metadata": {
      "needs_background": "light"
     },
     "output_type": "display_data"
    }
   ],
   "source": [
    "plt.boxplot([Y_test, test_data_prediction])\n",
    "plt.xlabel(\"Actual Price\")\n",
    "plt.ylabel(\"Predicted Price\")\n",
    "plt.title(\"Actual Prices vs Predicted Prices\")\n",
    "plt.show()"
   ]
  },
  {
   "cell_type": "raw",
   "id": "18c1a2df",
   "metadata": {},
   "source": [
    "2. Gradient Boosting Regressor Model"
   ]
  },
  {
   "cell_type": "code",
   "execution_count": 60,
   "id": "dcdc0ab6",
   "metadata": {},
   "outputs": [],
   "source": [
    "gb_regressor = GradientBoostingRegressor()"
   ]
  },
  {
   "cell_type": "code",
   "execution_count": 61,
   "id": "69286d4e",
   "metadata": {},
   "outputs": [
    {
     "data": {
      "text/plain": [
       "GradientBoostingRegressor()"
      ]
     },
     "execution_count": 61,
     "metadata": {},
     "output_type": "execute_result"
    }
   ],
   "source": [
    "gb_regressor.fit(X_train, Y_train)"
   ]
  },
  {
   "cell_type": "code",
   "execution_count": 68,
   "id": "011a31ab",
   "metadata": {},
   "outputs": [],
   "source": [
    "gdtrain_data_prediction = gb_regressor.predict(X_train)"
   ]
  },
  {
   "cell_type": "code",
   "execution_count": 69,
   "id": "2646abd1",
   "metadata": {},
   "outputs": [
    {
     "name": "stdout",
     "output_type": "stream",
     "text": [
      "R squared Error :  0.9962842311901805\n"
     ]
    }
   ],
   "source": [
    "error_score = metrics.r2_score(Y_train, gdtrain_data_prediction)\n",
    "print(\"R squared Error : \", error_score)"
   ]
  },
  {
   "cell_type": "code",
   "execution_count": 70,
   "id": "46de00f6",
   "metadata": {},
   "outputs": [
    {
     "data": {
      "image/png": "[encoded data removed]",
      "text/plain": [
       "<Figure size 432x288 with 1 Axes>"
      ]
     },
     "metadata": {
      "needs_background": "light"
     },
     "output_type": "display_data"
    }
   ],
   "source": [
    "plt.scatter(Y_train, gdtrain_data_prediction)\n",
    "plt.xlabel(\"Actual Price\")\n",
    "plt.ylabel(\"Predicted Price\")\n",
    "plt.title(\" Actual Prices vs Predicted Prices\")\n",
    "plt.show()"
   ]
  },
  {
   "cell_type": "code",
   "execution_count": 71,
   "id": "f15d90df",
   "metadata": {},
   "outputs": [
    {
     "data": {
      "image/png": "[encoded data removed]",
      "text/plain": [
       "<Figure size 432x288 with 1 Axes>"
      ]
     },
     "metadata": {
      "needs_background": "light"
     },
     "output_type": "display_data"
    }
   ],
   "source": [
    "plt.boxplot([Y_train, gdtrain_data_prediction])\n",
    "plt.xlabel(\"Actual Price\")\n",
    "plt.ylabel(\"Predicted Price\")\n",
    "plt.title(\"Actual Prices vs Predicted Prices\")\n",
    "plt.show()"
   ]
  },
  {
   "cell_type": "code",
   "execution_count": 72,
   "id": "b4d52caf",
   "metadata": {},
   "outputs": [],
   "source": [
    "gdtest_data_prediction = gb_regressor.predict(X_test)"
   ]
  },
  {
   "cell_type": "code",
   "execution_count": 73,
   "id": "fbe18f73",
   "metadata": {},
   "outputs": [
    {
     "name": "stdout",
     "output_type": "stream",
     "text": [
      "R squared Error :  0.9627955667044003\n"
     ]
    }
   ],
   "source": [
    "error_score = metrics.r2_score(Y_test, gdtest_data_prediction)\n",
    "print(\"R squared Error : \", error_score)"
   ]
  },
  {
   "cell_type": "code",
   "execution_count": 74,
   "id": "9675daac",
   "metadata": {},
   "outputs": [
    {
     "data": {
      "image/png": "[encoded data removed]",
      "text/plain": [
       "<Figure size 432x288 with 1 Axes>"
      ]
     },
     "metadata": {
      "needs_background": "light"
     },
     "output_type": "display_data"
    }
   ],
   "source": [
    "plt.scatter(Y_test, gdtest_data_prediction)\n",
    "plt.xlabel(\"Actual Price\")\n",
    "plt.ylabel(\"Predicted Price\")\n",
    "plt.title(\" Actual Prices vs Predicted Prices\")\n",
    "plt.show()"
   ]
  },
  {
   "cell_type": "code",
   "execution_count": 76,
   "id": "a20b096d",
   "metadata": {},
   "outputs": [
    {
     "data": {
      "image/png": "[encoded data removed]",
      "text/plain": [
       "<Figure size 432x288 with 1 Axes>"
      ]
     },
     "metadata": {
      "needs_background": "light"
     },
     "output_type": "display_data"
    }
   ],
   "source": [
    "plt.boxplot([Y_test, gdtest_data_prediction])\n",
    "plt.xlabel(\"Actual Price\")\n",
    "plt.ylabel(\"Predicted Price\")\n",
    "plt.title(\" Actual Prices vs Predicted Prices\")\n",
    "plt.show()"
   ]
  },
  {
   "cell_type": "raw",
   "id": "845cc7e9",
   "metadata": {},
   "source": [
    "3. Random forest regressor"
   ]
  },
  {
   "cell_type": "code",
   "execution_count": 83,
   "id": "a68e3d17",
   "metadata": {},
   "outputs": [
    {
     "data": {
      "text/plain": [
       "RandomForestRegressor()"
      ]
     },
     "execution_count": 83,
     "metadata": {},
     "output_type": "execute_result"
    }
   ],
   "source": [
    "from sklearn.ensemble import RandomForestRegressor\n",
    "\n",
    "rf_regressor = RandomForestRegressor()\n",
    "rf_regressor.fit(X_train, Y_train)\n"
   ]
  },
  {
   "cell_type": "code",
   "execution_count": 88,
   "id": "22ea1400",
   "metadata": {},
   "outputs": [],
   "source": [
    "rftrain_data_prediction = rf_regressor.predict(X_train)"
   ]
  },
  {
   "cell_type": "code",
   "execution_count": 89,
   "id": "11200bb6",
   "metadata": {},
   "outputs": [
    {
     "name": "stdout",
     "output_type": "stream",
     "text": [
      "R squared Error :  0.9887370432452762\n"
     ]
    }
   ],
   "source": [
    "error_score = metrics.r2_score(Y_train, rftrain_data_prediction)\n",
    "print(\"R squared Error : \", error_score)"
   ]
  },
  {
   "cell_type": "code",
   "execution_count": 92,
   "id": "c4d62e63",
   "metadata": {},
   "outputs": [
    {
     "data": {
      "image/png": "[encoded data removed]",
      "text/plain": [
       "<Figure size 432x288 with 1 Axes>"
      ]
     },
     "metadata": {
      "needs_background": "light"
     },
     "output_type": "display_data"
    }
   ],
   "source": [
    "plt.scatter(Y_train, rftrain_data_prediction)\n",
    "plt.xlabel(\"Actual Price\")\n",
    "plt.ylabel(\"Predicted Price\")\n",
    "plt.title(\" Actual Prices vs Predicted Prices\")\n",
    "plt.show()"
   ]
  },
  {
   "cell_type": "code",
   "execution_count": 96,
   "id": "6a4fd7b6",
   "metadata": {},
   "outputs": [
    {
     "data": {
      "image/png": "[encoded data removed]",
      "text/plain": [
       "<Figure size 432x288 with 1 Axes>"
      ]
     },
     "metadata": {
      "needs_background": "light"
     },
     "output_type": "display_data"
    },
    {
     "data": {
      "text/plain": [
       "['',\n",
       " 'import pandas as pd\\nimport matplotlib.pyplot as plt\\nimport seaborn as sns\\nfrom sklearn.model_selection import train_test_split\\nfrom sklearn.linear_model import LinearRegression\\nfrom sklearn.linear_model import Lasso\\nfrom sklearn import metrics',\n",
       " 'from sklearn.linear_model import LinearRegression\\nfrom sklearn.svm import SVC\\nfrom sklearn.neighbors import KNeighborsClassifier\\nfrom sklearn.ensemble import RandomForestClassifier',\n",
       " 'from sklearn.ensemble import RandomForestClassifier\\nfrom sklearn.ensemble import GradientBoostingRegressor\\nfrom sklearn.model_selection import train_test_split\\nfrom sklearn.metrics import mean_squared_error',\n",
       " \"car_data = pd.read_csv('car data.csv')\",\n",
       " 'car_data.head()',\n",
       " 'car_data.shape',\n",
       " 'car_data.dtypes',\n",
       " 'car_data.describe()',\n",
       " 'car_data.info',\n",
       " 'car_data.isnull().sum()',\n",
       " \"car_data['Owner'].value_counts()\",\n",
       " \"car_data['Seller_Type'].value_counts()\",\n",
       " \"car_data['Fuel_Type'].value_counts()\",\n",
       " '# encoding \"Fuel_Type\" Column\\ncar_data.replace({\\'Fuel_Type\\':{\\'Petrol\\':0,\\'Diesel\\':1,\\'CNG\\':2}},inplace=True)\\n\\n# encoding \"Seller_Type\" Column\\ncar_data.replace({\\'Seller_Type\\':{\\'Dealer\\':0,\\'Individual\\':1}},inplace=True)\\n\\n# encoding \"Transmission\" Column\\ncar_data.replace({\\'Transmission\\':{\\'Manual\\':0,\\'Automatic\\':1}},inplace=True)',\n",
       " \"X = car_data.drop(columns = 'Owner', axis=1)\\nY = car_data['Owner']\",\n",
       " 'print(X)',\n",
       " 'print(Y)',\n",
       " 'X_train, X_test, Y_train, Y_test = train_test_split(X, Y, test_size = 0.1, random_state=2)',\n",
       " 'lin_reg_model = LinearRegression()',\n",
       " 'lin_reg_model.fit(X_train,Y_train)',\n",
       " 'print(X)',\n",
       " 'print(Y)',\n",
       " 'car_data.isnull().sum()',\n",
       " 'lin_reg_model = LinearRegression()',\n",
       " 'lin_reg_model.fit(X_train,Y_train)',\n",
       " \"X = car_dataset.drop(['Car_Name','Selling_Price'],axis=1)\\nY = car_dataset['Selling_Price']\",\n",
       " \"X = car_data.drop(['Car_Name','Selling_Price'],axis=1)\\nY = car_data['Selling_Price']\",\n",
       " 'print(X)',\n",
       " 'print(Y)',\n",
       " 'X_train, X_test, Y_train, Y_test = train_test_split(X, Y, test_size = 0.1, random_state=2)',\n",
       " 'lin_reg_model = LinearRegression()',\n",
       " 'lin_reg_model.fit(X_train,Y_train)',\n",
       " 'training_data_prediction = lin_reg_model.predict(X_train)',\n",
       " 'train_data_prediction = lin_reg_model.predict(X_train)',\n",
       " 'error_score = metrics.r2_score(Y_train, train_data_prediction)\\nprint(\"R squared Error : \", error_score)',\n",
       " 'X_train, X_test, Y_train, Y_test = train_test_split(X, Y, test_size = 0.2, random_state=5)',\n",
       " 'lin_reg_model = LinearRegression()',\n",
       " 'lin_reg_model.fit(X_train,Y_train)',\n",
       " 'train_data_prediction = lin_reg_model.predict(X_train)',\n",
       " 'error_score = metrics.r2_score(Y_train, train_data_prediction)\\nprint(\"R squared Error : \", error_score)',\n",
       " 'plt.boxplot(Y_train, training_data_prediction)\\nplt.xlabel(\"Actual Price\")\\nplt.ylabel(\"Predicted Price\")\\nplt.title(\" Actual Prices vs Predicted Prices\")\\nplt.show()',\n",
       " 'plt.box(Y_train, training_data_prediction)\\nplt.xlabel(\"Actual Price\")\\nplt.ylabel(\"Predicted Price\")\\nplt.title(\" Actual Prices vs Predicted Prices\")\\nplt.show()',\n",
       " 'plt.scatter(Y_train, training_data_prediction)\\nplt.xlabel(\"Actual Price\")\\nplt.ylabel(\"Predicted Price\")\\nplt.title(\" Actual Prices vs Predicted Prices\")\\nplt.show()',\n",
       " 'plt.scatter(Y_train, training_data_prediction)\\nplt.xlabel(\"Actual Price\")\\nplt.ylabel(\"Predicted Price\")\\nplt.title(\" Actual Prices vs Predicted Prices\")\\nplt.show()',\n",
       " 'import pandas as pd\\nimport matplotlib.pyplot as plt\\nimport seaborn as sns\\nfrom sklearn.model_selection import train_test_split\\nfrom sklearn.linear_model import LinearRegression\\nfrom sklearn.linear_model import Lasso\\nfrom sklearn import metrics',\n",
       " 'plt.scatter(Y_train, train_data_prediction)\\nplt.xlabel(\"Actual Price\")\\nplt.ylabel(\"Predicted Price\")\\nplt.title(\" Actual Prices vs Predicted Prices\")\\nplt.show()',\n",
       " 'plt.box(Y_train, train_data_prediction)\\nplt.xlabel(\"Actual Price\")\\nplt.ylabel(\"Predicted Price\")\\nplt.title(\" Actual Prices vs Predicted Prices\")\\nplt.show()',\n",
       " 'plt.boxplt(Y_train, train_data_prediction)\\nplt.xlabel(\"Actual Price\")\\nplt.ylabel(\"Predicted Price\")\\nplt.title(\" Actual Prices vs Predicted Prices\")\\nplt.show()',\n",
       " 'plt.boxplt(Y_train, train_data_prediction)\\nplt.xlabel(Actual Price)\\nplt.ylabel(Predicted Price)\\nplt.title( Actual Prices vs Predicted Prices)\\nplt.show()',\n",
       " 'plt.boxplot(Y_train, train_data_prediction)\\nplt.xlabel(Actual Price)\\nplt.ylabel(Predicted Price)\\nplt.title( Actual Prices vs Predicted Prices)\\nplt.show()',\n",
       " 'plt.boxplot([Y_train, train_data_prediction])\\nplt.xlabel(\"Actual Price\")\\nplt.ylabel(\"Predicted Price\")\\nplt.title(\"Actual Prices vs Predicted Prices\")\\nplt.show()',\n",
       " 'plt.scatter(Y_train, training_data_prediction)\\nplt.xlabel(\"Actual Price\")\\nplt.ylabel(\"Predicted Price\")\\nplt.title(\" Actual Prices vs Predicted Prices\")\\nplt.show()',\n",
       " 'plt.scatter(Y_train, train_data_prediction)\\nplt.xlabel(\"Actual Price\")\\nplt.ylabel(\"Predicted Price\")\\nplt.title(\" Actual Prices vs Predicted Prices\")\\nplt.show()',\n",
       " 'test_data_prediction = lin_reg_model.predict(X_test)',\n",
       " 'error_score = metrics.r2_score(Y_test, train_data_prediction)\\nprint(\"R squared Error : \", error_score)',\n",
       " 'error_score = metrics.r2_score(Y_test, test_data_prediction)\\nprint(\"R squared Error : \", error_score)',\n",
       " 'plt.scatter(Y_test, test_data_prediction)\\nplt.xlabel(\"Actual Price\")\\nplt.ylabel(\"Predicted Price\")\\nplt.title(\" Actual Prices vs Predicted Prices\")\\nplt.show()',\n",
       " 'plt.boxplot([Y_train, train_data_prediction])\\nplt.xlabel(\"Actual Price\")\\nplt.ylabel(\"Predicted Price\")\\nplt.title(\"Actual Prices vs Predicted Prices\")\\nplt.show()',\n",
       " 'plt.boxplot([Y_test, test_data_prediction])\\nplt.xlabel(\"Actual Price\")\\nplt.ylabel(\"Predicted Price\")\\nplt.title(\"Actual Prices vs Predicted Prices\")\\nplt.show()',\n",
       " 'gb_regressor = GradientBoostingRegressor()',\n",
       " 'gb_regressor.fit(X_train, Y_train)',\n",
       " 'train_data_prediction = gb_regressor.predict(X_train)',\n",
       " 'error_score = metrics.r2_score(Y_train, train_data_prediction)\\nprint(\"R squared Error : \", error_score)',\n",
       " 'plt.scatter(Y_test, test_data_prediction)\\nplt.xlabel(\"Actual Price\")\\nplt.ylabel(\"Predicted Price\")\\nplt.title(\" Actual Prices vs Predicted Prices\")\\nplt.show()',\n",
       " 'plt.boxplot([Y_test, test_data_prediction])\\nplt.xlabel(\"Actual Price\")\\nplt.ylabel(\"Predicted Price\")\\nplt.title(\"Actual Prices vs Predicted Prices\")\\nplt.show()',\n",
       " 'train_data_prediction = gb_regressor.predict(X_test)',\n",
       " 'error_score = metrics.r2_score(Y_test, train_data_prediction)\\nprint(\"R squared Error : \", error_score)',\n",
       " 'gdtrain_data_prediction = gb_regressor.predict(X_train)',\n",
       " 'error_score = metrics.r2_score(Y_train, gdtrain_data_prediction)\\nprint(\"R squared Error : \", error_score)',\n",
       " 'plt.scatter(Y_train, gdtrain_data_prediction)\\nplt.xlabel(\"Actual Price\")\\nplt.ylabel(\"Predicted Price\")\\nplt.title(\" Actual Prices vs Predicted Prices\")\\nplt.show()',\n",
       " 'plt.boxplot([Y_train, gdtrain_data_prediction])\\nplt.xlabel(\"Actual Price\")\\nplt.ylabel(\"Predicted Price\")\\nplt.title(\"Actual Prices vs Predicted Prices\")\\nplt.show()',\n",
       " 'gdtest_data_prediction = gb_regressor.predict(X_test)',\n",
       " 'error_score = metrics.r2_score(Y_test, gdtest_data_prediction)\\nprint(\"R squared Error : \", error_score)',\n",
       " 'plt.scatter(Y_test, gdtest_data_prediction)\\nplt.xlabel(\"Actual Price\")\\nplt.ylabel(\"Predicted Price\")\\nplt.title(\" Actual Prices vs Predicted Prices\")\\nplt.show()',\n",
       " 'plt.boxplot(Y_test, gdtest_data_prediction)\\nplt.xlabel(\"Actual Price\")\\nplt.ylabel(\"Predicted Price\")\\nplt.title(\" Actual Prices vs Predicted Prices\")\\nplt.show()',\n",
       " 'plt.boxplot([Y_test, gdtest_data_prediction])\\nplt.xlabel(\"Actual Price\")\\nplt.ylabel(\"Predicted Price\")\\nplt.title(\" Actual Prices vs Predicted Prices\")\\nplt.show()',\n",
       " 'rf_classifier = RandomForestClassifier()',\n",
       " 'rf_classifier.fit(X_train, Y_train)',\n",
       " 'rf_classifier.fit(X_train, Y_train)',\n",
       " 'rf_classifier = RandomForestClassifier()',\n",
       " 'rf_classifier = RandomForestClassifier()',\n",
       " 'rf_classifier.fit(X_train, Y_train)',\n",
       " 'from sklearn.ensemble import RandomForestRegressor\\n\\nrf_regressor = RandomForestRegressor()\\nrf_regressor.fit(X_train, Y_train)',\n",
       " 'rftrain_data_prediction = rf_regressor.predict(X_test)',\n",
       " 'error_score = metrics.r2_score(Y_train, rftrain_data_prediction)\\nprint(\"R squared Error : \", error_score)',\n",
       " 'rftrain_data_prediction = rf_regressor.predict(X_test)',\n",
       " 'error_score = metrics.r2_score(Y_train, rftrain_data_prediction)\\nprint(\"R squared Error : \", error_score)',\n",
       " 'rftrain_data_prediction = rf_regressor.predict(X_train)',\n",
       " 'error_score = metrics.r2_score(Y_train, rftrain_data_prediction)\\nprint(\"R squared Error : \", error_score)',\n",
       " 'rftest_data_prediction = rf_regressor.predict(X_test)',\n",
       " 'error_score = metrics.r2_score(Y_test, rftest_data_prediction)\\nprint(\"R squared Error : \", error_score)',\n",
       " 'plt.scatter(Y_train, rftrain_data_prediction)\\nplt.xlabel(\"Actual Price\")\\nplt.ylabel(\"Predicted Price\")\\nplt.title(\" Actual Prices vs Predicted Prices\")\\nplt.show()',\n",
       " 'plt.hist(Y_train, rftrain_data_prediction)\\nplt.xlabel(\"Actual Price\")\\nplt.ylabel(\"Predicted Price\")\\nplt.title(\" Actual Prices vs Predicted Prices\")\\nplt.show()',\n",
       " 'import numpy as np\\n\\ncombined_values = np.concatenate([Y_train, rftrain_data_prediction])\\n\\nplt.hist(combined_values, bins=20)  # Adjust the number of bins as needed\\nplt.xlabel(\"Prices\")\\nplt.ylabel(\"Frequency\")\\nplt.title(\"Actual Prices vs Predicted Prices\")\\nplt.legend([\"Actual Price\", \"Predicted Price\"])  # Add a legend if desired\\nplt.show()',\n",
       " 'plt.scatter(Y_train, rftrain_data_prediction)\\nplt.xlabel(\"Actual Price\")\\nplt.ylabel(\"Predicted Price\")\\nplt.title(\" Actual Prices vs Predicted Prices\")\\nplt.show()',\n",
       " 'import numpy as np\\n\\ncombined_values = np.concatenate([Y_train, rftrain_data_prediction])\\n\\nplt.hist(combined_values, bins=20)  # Adjust the number of bins as needed\\nplt.xlabel(\"Prices\")\\nplt.ylabel(\"Frequency\")\\nplt.title(\"Actual Prices vs Predicted Prices\")\\nplt.legend([\"Actual Price\", \"Predicted Price\"])  # Add a legend if desired\\nplt.show()\\nIn ']"
      ]
     },
     "execution_count": 96,
     "metadata": {},
     "output_type": "execute_result"
    }
   ],
   "source": [
    "import numpy as np\n",
    "\n",
    "combined_values = np.concatenate([Y_train, rftrain_data_prediction])\n",
    "\n",
    "plt.hist(combined_values, bins=20)  # Adjust the number of bins as needed\n",
    "plt.xlabel(\"Prices\")\n",
    "plt.ylabel(\"Frequency\")\n",
    "plt.title(\"Actual Prices vs Predicted Prices\")\n",
    "plt.legend([\"Actual Price\", \"Predicted Price\"])  # Add a legend if desired\n",
    "plt.show()\n",
    "In "
   ]
  },
  {
   "cell_type": "code",
   "execution_count": 90,
   "id": "14236e2f",
   "metadata": {},
   "outputs": [],
   "source": [
    "rftest_data_prediction = rf_regressor.predict(X_test)"
   ]
  },
  {
   "cell_type": "code",
   "execution_count": 91,
   "id": "6848cfbe",
   "metadata": {},
   "outputs": [
    {
     "name": "stdout",
     "output_type": "stream",
     "text": [
      "R squared Error :  0.9739250563075502\n"
     ]
    }
   ],
   "source": [
    "error_score = metrics.r2_score(Y_test, rftest_data_prediction)\n",
    "print(\"R squared Error : \", error_score)"
   ]
  },
  {
   "cell_type": "code",
   "execution_count": 95,
   "id": "f3312d07",
   "metadata": {},
   "outputs": [
    {
     "data": {
      "image/png": "[encoded data removed]",
      "text/plain": [
       "<Figure size 432x288 with 1 Axes>"
      ]
     },
     "metadata": {
      "needs_background": "light"
     },
     "output_type": "display_data"
    }
   ],
   "source": [
    "plt.scatter(Y_train, rftrain_data_prediction)\n",
    "plt.xlabel(\"Actual Price\")\n",
    "plt.ylabel(\"Predicted Price\")\n",
    "plt.title(\" Actual Prices vs Predicted Prices\")\n",
    "plt.show()"
   ]
  },
  {
   "cell_type": "code",
   "execution_count": 97,
   "id": "1018883e",
   "metadata": {},
   "outputs": [
    {
     "data": {
      "image/png": "[encoded data removed]",
      "text/plain": [
       "<Figure size 432x288 with 1 Axes>"
      ]
     },
     "metadata": {
      "needs_background": "light"
     },
     "output_type": "display_data"
    }
   ],
   "source": [
    "import numpy as np\n",
    "\n",
    "combined_values = np.concatenate([Y_test, rftest_data_prediction])\n",
    "\n",
    "plt.hist(combined_values, bins=20)  \n",
    "plt.xlabel(\"Prices\")\n",
    "plt.ylabel(\"Frequency\")\n",
    "plt.title(\"Actual Prices vs Predicted Prices\")\n",
    "plt.legend([\"Actual Price\", \"Predicted Price\"])  \n",
    "plt.show()"
   ]
  },
  {
   "cell_type": "raw",
   "id": "97654613",
   "metadata": {},
   "source": [
    "4. Bayesian Regression Model"
   ]
  },
  {
   "cell_type": "code",
   "execution_count": 101,
   "id": "23103ae3",
   "metadata": {},
   "outputs": [
    {
     "data": {
      "text/plain": [
       "BayesianRidge()"
      ]
     },
     "execution_count": 101,
     "metadata": {},
     "output_type": "execute_result"
    }
   ],
   "source": [
    "bayesian_reg = BayesianRidge()\n",
    "bayesian_reg.fit(X_train, Y_train)\n"
   ]
  },
  {
   "cell_type": "code",
   "execution_count": 103,
   "id": "6e5f58f0",
   "metadata": {},
   "outputs": [
    {
     "name": "stdout",
     "output_type": "stream",
     "text": [
      "R squared Error :  0.8736847959867086\n"
     ]
    }
   ],
   "source": [
    "baytrain_data_prediction = bayesian_reg.predict(X_train)\n",
    "error_score = metrics.r2_score(Y_train, baytrain_data_prediction)\n",
    "print(\"R squared Error : \", error_score)"
   ]
  },
  {
   "cell_type": "code",
   "execution_count": 106,
   "id": "5d297bc0",
   "metadata": {},
   "outputs": [
    {
     "data": {
      "image/png": "[encoded data removed]",
      "text/plain": [
       "<Figure size 432x288 with 1 Axes>"
      ]
     },
     "metadata": {
      "needs_background": "light"
     },
     "output_type": "display_data"
    }
   ],
   "source": [
    "plt.boxplot([Y_train, baytrain_data_prediction])\n",
    "plt.xlabel(\"Actual Price\")\n",
    "plt.ylabel(\"Predicted Price\")\n",
    "plt.title(\" Actual Prices vs Predicted Prices\")\n",
    "plt.show()"
   ]
  },
  {
   "cell_type": "code",
   "execution_count": 109,
   "id": "d98e00cd",
   "metadata": {},
   "outputs": [
    {
     "data": {
      "image/png": "[encoded data removed]",
      "text/plain": [
       "<Figure size 432x288 with 1 Axes>"
      ]
     },
     "metadata": {
      "needs_background": "light"
     },
     "output_type": "display_data"
    }
   ],
   "source": [
    "import numpy as np\n",
    "\n",
    "combined_values = np.concatenate([Y_train, baytrain_data_prediction])\n",
    "\n",
    "plt.hist(combined_values, bins=20)  \n",
    "plt.xlabel(\"Prices\")\n",
    "plt.ylabel(\"Frequency\")\n",
    "plt.title(\"Actual Prices vs Predicted Prices\")\n",
    "plt.legend([\"Actual Price\", \"Predicted Price\"])  \n",
    "plt.show()"
   ]
  },
  {
   "cell_type": "code",
   "execution_count": 105,
   "id": "bc7156a6",
   "metadata": {},
   "outputs": [
    {
     "name": "stdout",
     "output_type": "stream",
     "text": [
      "R squared Error :  0.8640090500636697\n"
     ]
    }
   ],
   "source": [
    "baytest_data_prediction = bayesian_reg.predict(X_test)\n",
    "error_score = metrics.r2_score(Y_test, baytest_data_prediction)\n",
    "print(\"R squared Error : \", error_score)"
   ]
  },
  {
   "cell_type": "code",
   "execution_count": 107,
   "id": "9115b7df",
   "metadata": {},
   "outputs": [
    {
     "data": {
      "image/png": "[encoded data removed]",
      "text/plain": [
       "<Figure size 432x288 with 1 Axes>"
      ]
     },
     "metadata": {
      "needs_background": "light"
     },
     "output_type": "display_data"
    }
   ],
   "source": [
    "plt.boxplot([Y_test, baytest_data_prediction])\n",
    "plt.xlabel(\"Actual Price\")\n",
    "plt.ylabel(\"Predicted Price\")\n",
    "plt.title(\" Actual Prices vs Predicted Prices\")\n",
    "plt.show()"
   ]
  },
  {
   "cell_type": "code",
   "execution_count": 108,
   "id": "70b1850f",
   "metadata": {},
   "outputs": [
    {
     "data": {
      "image/png": "[encoded data removed]",
      "text/plain": [
       "<Figure size 432x288 with 1 Axes>"
      ]
     },
     "metadata": {
      "needs_background": "light"
     },
     "output_type": "display_data"
    }
   ],
   "source": [
    "import numpy as np\n",
    "\n",
    "combined_values = np.concatenate([Y_test, baytest_data_prediction])\n",
    "\n",
    "plt.hist(combined_values, bins=20)  \n",
    "plt.xlabel(\"Prices\")\n",
    "plt.ylabel(\"Frequency\")\n",
    "plt.title(\"Actual Prices vs Predicted Prices\")\n",
    "plt.legend([\"Actual Price\", \"Predicted Price\"])  \n",
    "plt.show()"
   ]
  },
  {
   "cell_type": "code",
   "execution_count": null,
   "id": "111e433e",
   "metadata": {},
   "outputs": [],
   "source": []
  }
 ],
 "metadata": {
  "kernelspec": {
   "display_name": "Python 3 (ipykernel)",
   "language": "python",
   "name": "python3"
  },
  "language_info": {
   "codemirror_mode": {
    "name": "ipython",
    "version": 3
   },
   "file_extension": ".py",
   "mimetype": "text/x-python",
   "name": "python",
   "nbconvert_exporter": "python",
   "pygments_lexer": "ipython3",
   "version": "3.9.12"
  }
 },
 "nbformat": 4,
 "nbformat_minor": 5
}
